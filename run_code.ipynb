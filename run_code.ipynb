{
  "nbformat": 4,
  "nbformat_minor": 0,
  "metadata": {
    "colab": {
      "provenance": [],
      "gpuType": "T4"
    },
    "kernelspec": {
      "name": "python3",
      "display_name": "Python 3"
    },
    "language_info": {
      "name": "python"
    },
    "accelerator": "GPU"
  },
  "cells": [
    {
      "cell_type": "code",
      "source": [
        "!git clone \"https://github.com/boolinux111/object_identification.git\"\n",
        "%cd object_identification"
      ],
      "metadata": {
        "id": "tBKvnDIrVdc-",
        "colab": {
          "base_uri": "https://localhost:8080/"
        },
        "outputId": "c0b7c4c4-da94-4dbc-de0a-8dc93851774e"
      },
      "execution_count": 1,
      "outputs": [
        {
          "output_type": "stream",
          "name": "stdout",
          "text": [
            "Cloning into 'object_identification'...\n",
            "remote: Enumerating objects: 56, done.\u001b[K\n",
            "remote: Counting objects: 100% (56/56), done.\u001b[K\n",
            "remote: Compressing objects: 100% (53/53), done.\u001b[K\n",
            "remote: Total 56 (delta 18), reused 0 (delta 0), pack-reused 0 (from 0)\u001b[K\n",
            "Receiving objects: 100% (56/56), 42.42 KiB | 10.61 MiB/s, done.\n",
            "Resolving deltas: 100% (18/18), done.\n",
            "/content/object_identification\n"
          ]
        }
      ]
    },
    {
      "cell_type": "code",
      "source": [
        "!pip install ultralytics"
      ],
      "metadata": {
        "colab": {
          "base_uri": "https://localhost:8080/"
        },
        "id": "DaZKprD5iTVh",
        "outputId": "f58cee36-7290-472a-b33f-1f0b4571975a"
      },
      "execution_count": 6,
      "outputs": [
        {
          "output_type": "stream",
          "name": "stdout",
          "text": [
            "Found existing installation: ultralytics 8.3.147\n",
            "Uninstalling ultralytics-8.3.147:\n",
            "  Would remove:\n",
            "    /usr/local/bin/ultralytics\n",
            "    /usr/local/bin/yolo\n",
            "    /usr/local/lib/python3.11/dist-packages/tests/*\n",
            "    /usr/local/lib/python3.11/dist-packages/ultralytics-8.3.147.dist-info/*\n",
            "    /usr/local/lib/python3.11/dist-packages/ultralytics/*\n",
            "  Would not remove (might be manually added):\n",
            "    /usr/local/lib/python3.11/dist-packages/tests/conversion_test.py\n",
            "    /usr/local/lib/python3.11/dist-packages/tests/database_test.py\n",
            "    /usr/local/lib/python3.11/dist-packages/tests/graph_entities_test.py\n",
            "    /usr/local/lib/python3.11/dist-packages/tests/graph_server_test.py\n",
            "    /usr/local/lib/python3.11/dist-packages/tests/magics_test.py\n",
            "    /usr/local/lib/python3.11/dist-packages/tests/node_expansion_test.py\n",
            "    /usr/local/lib/python3.11/dist-packages/tests/sample_notebook_test.py\n",
            "    /usr/local/lib/python3.11/dist-packages/tests/schema_manager_test.py\n",
            "    /usr/local/lib/python3.11/dist-packages/tests/server_test.py\n",
            "    /usr/local/lib/python3.11/dist-packages/tests/test_notebook.json\n",
            "    /usr/local/lib/python3.11/dist-packages/tests/tox-plugin/setup.py\n",
            "    /usr/local/lib/python3.11/dist-packages/tests/tox-plugin/tox.ini\n",
            "Proceed (Y/n)? y\n",
            "  Successfully uninstalled ultralytics-8.3.147\n"
          ]
        }
      ]
    },
    {
      "cell_type": "code",
      "execution_count": 2,
      "metadata": {
        "id": "Sa0TW8l5E3_c",
        "collapsed": true,
        "colab": {
          "base_uri": "https://localhost:8080/"
        },
        "outputId": "2b6a67de-302f-4b8a-e977-f126c2a3a33e"
      },
      "outputs": [
        {
          "output_type": "stream",
          "name": "stdout",
          "text": [
            "Cloning into 'deepface'...\n",
            "remote: Enumerating objects: 8781, done.\u001b[K\n",
            "remote: Counting objects: 100% (534/534), done.\u001b[K\n",
            "remote: Compressing objects: 100% (110/110), done.\u001b[K\n",
            "remote: Total 8781 (delta 454), reused 427 (delta 424), pack-reused 8247 (from 4)\u001b[K\n",
            "Receiving objects: 100% (8781/8781), 54.39 MiB | 13.44 MiB/s, done.\n",
            "Resolving deltas: 100% (5751/5751), done.\n",
            "Collecting git+https://github.com/serengil/deepface.git (from -r requirements.txt (line 4))\n",
            "  Cloning https://github.com/serengil/deepface.git to /tmp/pip-req-build-y_w_u9wj\n",
            "  Running command git clone --filter=blob:none --quiet https://github.com/serengil/deepface.git /tmp/pip-req-build-y_w_u9wj\n",
            "  Resolved https://github.com/serengil/deepface.git to commit df1b6ab6fe431f126afe7ff3baa7fe394a967f0a\n",
            "  Preparing metadata (setup.py) ... \u001b[?25l\u001b[?25hdone\n",
            "Collecting face_recognition (from -r requirements.txt (line 1))\n",
            "  Downloading face_recognition-1.3.0-py2.py3-none-any.whl.metadata (21 kB)\n",
            "Collecting deep_sort_realtime (from -r requirements.txt (line 2))\n",
            "  Downloading deep_sort_realtime-1.3.2-py3-none-any.whl.metadata (12 kB)\n",
            "Collecting torchreid (from -r requirements.txt (line 3))\n",
            "  Downloading torchreid-0.2.5.tar.gz (92 kB)\n",
            "\u001b[2K     \u001b[90m━━━━━━━━━━━━━━━━━━━━━━━━━━━━━━━━━━━━━━━━\u001b[0m \u001b[32m92.7/92.7 kB\u001b[0m \u001b[31m9.0 MB/s\u001b[0m eta \u001b[36m0:00:00\u001b[0m\n",
            "\u001b[?25h  Preparing metadata (setup.py) ... \u001b[?25l\u001b[?25hdone\n",
            "Collecting face-recognition-models>=0.3.0 (from face_recognition->-r requirements.txt (line 1))\n",
            "  Downloading face_recognition_models-0.3.0.tar.gz (100.1 MB)\n",
            "\u001b[2K     \u001b[90m━━━━━━━━━━━━━━━━━━━━━━━━━━━━━━━━━━━━━━━\u001b[0m \u001b[32m100.1/100.1 MB\u001b[0m \u001b[31m8.4 MB/s\u001b[0m eta \u001b[36m0:00:00\u001b[0m\n",
            "\u001b[?25h  Preparing metadata (setup.py) ... \u001b[?25l\u001b[?25hdone\n",
            "Requirement already satisfied: Click>=6.0 in /usr/local/lib/python3.11/dist-packages (from face_recognition->-r requirements.txt (line 1)) (8.2.1)\n",
            "Requirement already satisfied: dlib>=19.7 in /usr/local/lib/python3.11/dist-packages (from face_recognition->-r requirements.txt (line 1)) (19.24.6)\n",
            "Requirement already satisfied: numpy in /usr/local/lib/python3.11/dist-packages (from face_recognition->-r requirements.txt (line 1)) (2.0.2)\n",
            "Requirement already satisfied: Pillow in /usr/local/lib/python3.11/dist-packages (from face_recognition->-r requirements.txt (line 1)) (11.2.1)\n",
            "Requirement already satisfied: scipy in /usr/local/lib/python3.11/dist-packages (from deep_sort_realtime->-r requirements.txt (line 2)) (1.15.3)\n",
            "Requirement already satisfied: opencv-python in /usr/local/lib/python3.11/dist-packages (from deep_sort_realtime->-r requirements.txt (line 2)) (4.11.0.86)\n",
            "Requirement already satisfied: requests>=2.27.1 in /usr/local/lib/python3.11/dist-packages (from deepface==0.0.94->-r requirements.txt (line 4)) (2.32.3)\n",
            "Requirement already satisfied: pandas>=0.23.4 in /usr/local/lib/python3.11/dist-packages (from deepface==0.0.94->-r requirements.txt (line 4)) (2.2.2)\n",
            "Requirement already satisfied: gdown>=3.10.1 in /usr/local/lib/python3.11/dist-packages (from deepface==0.0.94->-r requirements.txt (line 4)) (5.2.0)\n",
            "Requirement already satisfied: tqdm>=4.30.0 in /usr/local/lib/python3.11/dist-packages (from deepface==0.0.94->-r requirements.txt (line 4)) (4.67.1)\n",
            "Requirement already satisfied: tensorflow>=1.9.0 in /usr/local/lib/python3.11/dist-packages (from deepface==0.0.94->-r requirements.txt (line 4)) (2.18.0)\n",
            "Requirement already satisfied: keras>=2.2.0 in /usr/local/lib/python3.11/dist-packages (from deepface==0.0.94->-r requirements.txt (line 4)) (3.8.0)\n",
            "Requirement already satisfied: Flask>=1.1.2 in /usr/local/lib/python3.11/dist-packages (from deepface==0.0.94->-r requirements.txt (line 4)) (3.1.1)\n",
            "Collecting flask_cors>=4.0.1 (from deepface==0.0.94->-r requirements.txt (line 4))\n",
            "  Downloading flask_cors-6.0.0-py3-none-any.whl.metadata (961 bytes)\n",
            "Collecting mtcnn>=0.1.0 (from deepface==0.0.94->-r requirements.txt (line 4))\n",
            "  Downloading mtcnn-1.0.0-py3-none-any.whl.metadata (5.8 kB)\n",
            "Collecting retina-face>=0.0.14 (from deepface==0.0.94->-r requirements.txt (line 4))\n",
            "  Downloading retina_face-0.0.17-py3-none-any.whl.metadata (10 kB)\n",
            "Collecting fire>=0.4.0 (from deepface==0.0.94->-r requirements.txt (line 4))\n",
            "  Downloading fire-0.7.0.tar.gz (87 kB)\n",
            "\u001b[2K     \u001b[90m━━━━━━━━━━━━━━━━━━━━━━━━━━━━━━━━━━━━━━━━\u001b[0m \u001b[32m87.2/87.2 kB\u001b[0m \u001b[31m9.2 MB/s\u001b[0m eta \u001b[36m0:00:00\u001b[0m\n",
            "\u001b[?25h  Preparing metadata (setup.py) ... \u001b[?25l\u001b[?25hdone\n",
            "Collecting gunicorn>=20.1.0 (from deepface==0.0.94->-r requirements.txt (line 4))\n",
            "  Downloading gunicorn-23.0.0-py3-none-any.whl.metadata (4.4 kB)\n",
            "Requirement already satisfied: termcolor in /usr/local/lib/python3.11/dist-packages (from fire>=0.4.0->deepface==0.0.94->-r requirements.txt (line 4)) (3.1.0)\n",
            "Requirement already satisfied: blinker>=1.9.0 in /usr/local/lib/python3.11/dist-packages (from Flask>=1.1.2->deepface==0.0.94->-r requirements.txt (line 4)) (1.9.0)\n",
            "Requirement already satisfied: itsdangerous>=2.2.0 in /usr/local/lib/python3.11/dist-packages (from Flask>=1.1.2->deepface==0.0.94->-r requirements.txt (line 4)) (2.2.0)\n",
            "Requirement already satisfied: jinja2>=3.1.2 in /usr/local/lib/python3.11/dist-packages (from Flask>=1.1.2->deepface==0.0.94->-r requirements.txt (line 4)) (3.1.6)\n",
            "Requirement already satisfied: markupsafe>=2.1.1 in /usr/local/lib/python3.11/dist-packages (from Flask>=1.1.2->deepface==0.0.94->-r requirements.txt (line 4)) (3.0.2)\n",
            "Requirement already satisfied: werkzeug>=3.1.0 in /usr/local/lib/python3.11/dist-packages (from Flask>=1.1.2->deepface==0.0.94->-r requirements.txt (line 4)) (3.1.3)\n",
            "Requirement already satisfied: beautifulsoup4 in /usr/local/lib/python3.11/dist-packages (from gdown>=3.10.1->deepface==0.0.94->-r requirements.txt (line 4)) (4.13.4)\n",
            "Requirement already satisfied: filelock in /usr/local/lib/python3.11/dist-packages (from gdown>=3.10.1->deepface==0.0.94->-r requirements.txt (line 4)) (3.18.0)\n",
            "Requirement already satisfied: packaging in /usr/local/lib/python3.11/dist-packages (from gunicorn>=20.1.0->deepface==0.0.94->-r requirements.txt (line 4)) (24.2)\n",
            "Requirement already satisfied: absl-py in /usr/local/lib/python3.11/dist-packages (from keras>=2.2.0->deepface==0.0.94->-r requirements.txt (line 4)) (1.4.0)\n",
            "Requirement already satisfied: rich in /usr/local/lib/python3.11/dist-packages (from keras>=2.2.0->deepface==0.0.94->-r requirements.txt (line 4)) (13.9.4)\n",
            "Requirement already satisfied: namex in /usr/local/lib/python3.11/dist-packages (from keras>=2.2.0->deepface==0.0.94->-r requirements.txt (line 4)) (0.0.9)\n",
            "Requirement already satisfied: h5py in /usr/local/lib/python3.11/dist-packages (from keras>=2.2.0->deepface==0.0.94->-r requirements.txt (line 4)) (3.13.0)\n",
            "Requirement already satisfied: optree in /usr/local/lib/python3.11/dist-packages (from keras>=2.2.0->deepface==0.0.94->-r requirements.txt (line 4)) (0.15.0)\n",
            "Requirement already satisfied: ml-dtypes in /usr/local/lib/python3.11/dist-packages (from keras>=2.2.0->deepface==0.0.94->-r requirements.txt (line 4)) (0.4.1)\n",
            "Requirement already satisfied: joblib>=1.4.2 in /usr/local/lib/python3.11/dist-packages (from mtcnn>=0.1.0->deepface==0.0.94->-r requirements.txt (line 4)) (1.5.0)\n",
            "Collecting lz4>=4.3.3 (from mtcnn>=0.1.0->deepface==0.0.94->-r requirements.txt (line 4))\n",
            "  Downloading lz4-4.4.4-cp311-cp311-manylinux_2_17_x86_64.manylinux2014_x86_64.whl.metadata (3.8 kB)\n",
            "Requirement already satisfied: python-dateutil>=2.8.2 in /usr/local/lib/python3.11/dist-packages (from pandas>=0.23.4->deepface==0.0.94->-r requirements.txt (line 4)) (2.9.0.post0)\n",
            "Requirement already satisfied: pytz>=2020.1 in /usr/local/lib/python3.11/dist-packages (from pandas>=0.23.4->deepface==0.0.94->-r requirements.txt (line 4)) (2025.2)\n",
            "Requirement already satisfied: tzdata>=2022.7 in /usr/local/lib/python3.11/dist-packages (from pandas>=0.23.4->deepface==0.0.94->-r requirements.txt (line 4)) (2025.2)\n",
            "Requirement already satisfied: charset-normalizer<4,>=2 in /usr/local/lib/python3.11/dist-packages (from requests>=2.27.1->deepface==0.0.94->-r requirements.txt (line 4)) (3.4.2)\n",
            "Requirement already satisfied: idna<4,>=2.5 in /usr/local/lib/python3.11/dist-packages (from requests>=2.27.1->deepface==0.0.94->-r requirements.txt (line 4)) (3.10)\n",
            "Requirement already satisfied: urllib3<3,>=1.21.1 in /usr/local/lib/python3.11/dist-packages (from requests>=2.27.1->deepface==0.0.94->-r requirements.txt (line 4)) (2.4.0)\n",
            "Requirement already satisfied: certifi>=2017.4.17 in /usr/local/lib/python3.11/dist-packages (from requests>=2.27.1->deepface==0.0.94->-r requirements.txt (line 4)) (2025.4.26)\n",
            "Requirement already satisfied: astunparse>=1.6.0 in /usr/local/lib/python3.11/dist-packages (from tensorflow>=1.9.0->deepface==0.0.94->-r requirements.txt (line 4)) (1.6.3)\n",
            "Requirement already satisfied: flatbuffers>=24.3.25 in /usr/local/lib/python3.11/dist-packages (from tensorflow>=1.9.0->deepface==0.0.94->-r requirements.txt (line 4)) (25.2.10)\n",
            "Requirement already satisfied: gast!=0.5.0,!=0.5.1,!=0.5.2,>=0.2.1 in /usr/local/lib/python3.11/dist-packages (from tensorflow>=1.9.0->deepface==0.0.94->-r requirements.txt (line 4)) (0.6.0)\n",
            "Requirement already satisfied: google-pasta>=0.1.1 in /usr/local/lib/python3.11/dist-packages (from tensorflow>=1.9.0->deepface==0.0.94->-r requirements.txt (line 4)) (0.2.0)\n",
            "Requirement already satisfied: libclang>=13.0.0 in /usr/local/lib/python3.11/dist-packages (from tensorflow>=1.9.0->deepface==0.0.94->-r requirements.txt (line 4)) (18.1.1)\n",
            "Requirement already satisfied: opt-einsum>=2.3.2 in /usr/local/lib/python3.11/dist-packages (from tensorflow>=1.9.0->deepface==0.0.94->-r requirements.txt (line 4)) (3.4.0)\n",
            "Requirement already satisfied: protobuf!=4.21.0,!=4.21.1,!=4.21.2,!=4.21.3,!=4.21.4,!=4.21.5,<6.0.0dev,>=3.20.3 in /usr/local/lib/python3.11/dist-packages (from tensorflow>=1.9.0->deepface==0.0.94->-r requirements.txt (line 4)) (5.29.4)\n",
            "Requirement already satisfied: setuptools in /usr/local/lib/python3.11/dist-packages (from tensorflow>=1.9.0->deepface==0.0.94->-r requirements.txt (line 4)) (75.2.0)\n",
            "Requirement already satisfied: six>=1.12.0 in /usr/local/lib/python3.11/dist-packages (from tensorflow>=1.9.0->deepface==0.0.94->-r requirements.txt (line 4)) (1.17.0)\n",
            "Requirement already satisfied: typing-extensions>=3.6.6 in /usr/local/lib/python3.11/dist-packages (from tensorflow>=1.9.0->deepface==0.0.94->-r requirements.txt (line 4)) (4.13.2)\n",
            "Requirement already satisfied: wrapt>=1.11.0 in /usr/local/lib/python3.11/dist-packages (from tensorflow>=1.9.0->deepface==0.0.94->-r requirements.txt (line 4)) (1.17.2)\n",
            "Requirement already satisfied: grpcio<2.0,>=1.24.3 in /usr/local/lib/python3.11/dist-packages (from tensorflow>=1.9.0->deepface==0.0.94->-r requirements.txt (line 4)) (1.71.0)\n",
            "Requirement already satisfied: tensorboard<2.19,>=2.18 in /usr/local/lib/python3.11/dist-packages (from tensorflow>=1.9.0->deepface==0.0.94->-r requirements.txt (line 4)) (2.18.0)\n",
            "Requirement already satisfied: tensorflow-io-gcs-filesystem>=0.23.1 in /usr/local/lib/python3.11/dist-packages (from tensorflow>=1.9.0->deepface==0.0.94->-r requirements.txt (line 4)) (0.37.1)\n",
            "Requirement already satisfied: wheel<1.0,>=0.23.0 in /usr/local/lib/python3.11/dist-packages (from astunparse>=1.6.0->tensorflow>=1.9.0->deepface==0.0.94->-r requirements.txt (line 4)) (0.45.1)\n",
            "Requirement already satisfied: markdown>=2.6.8 in /usr/local/lib/python3.11/dist-packages (from tensorboard<2.19,>=2.18->tensorflow>=1.9.0->deepface==0.0.94->-r requirements.txt (line 4)) (3.8)\n",
            "Requirement already satisfied: tensorboard-data-server<0.8.0,>=0.7.0 in /usr/local/lib/python3.11/dist-packages (from tensorboard<2.19,>=2.18->tensorflow>=1.9.0->deepface==0.0.94->-r requirements.txt (line 4)) (0.7.2)\n",
            "Requirement already satisfied: soupsieve>1.2 in /usr/local/lib/python3.11/dist-packages (from beautifulsoup4->gdown>=3.10.1->deepface==0.0.94->-r requirements.txt (line 4)) (2.7)\n",
            "Requirement already satisfied: PySocks!=1.5.7,>=1.5.6 in /usr/local/lib/python3.11/dist-packages (from requests[socks]->gdown>=3.10.1->deepface==0.0.94->-r requirements.txt (line 4)) (1.7.1)\n",
            "Requirement already satisfied: markdown-it-py>=2.2.0 in /usr/local/lib/python3.11/dist-packages (from rich->keras>=2.2.0->deepface==0.0.94->-r requirements.txt (line 4)) (3.0.0)\n",
            "Requirement already satisfied: pygments<3.0.0,>=2.13.0 in /usr/local/lib/python3.11/dist-packages (from rich->keras>=2.2.0->deepface==0.0.94->-r requirements.txt (line 4)) (2.19.1)\n",
            "Requirement already satisfied: mdurl~=0.1 in /usr/local/lib/python3.11/dist-packages (from markdown-it-py>=2.2.0->rich->keras>=2.2.0->deepface==0.0.94->-r requirements.txt (line 4)) (0.1.2)\n",
            "Downloading face_recognition-1.3.0-py2.py3-none-any.whl (15 kB)\n",
            "Downloading deep_sort_realtime-1.3.2-py3-none-any.whl (8.4 MB)\n",
            "\u001b[2K   \u001b[90m━━━━━━━━━━━━━━━━━━━━━━━━━━━━━━━━━━━━━━━━\u001b[0m \u001b[32m8.4/8.4 MB\u001b[0m \u001b[31m114.8 MB/s\u001b[0m eta \u001b[36m0:00:00\u001b[0m\n",
            "\u001b[?25hDownloading flask_cors-6.0.0-py3-none-any.whl (11 kB)\n",
            "Downloading gunicorn-23.0.0-py3-none-any.whl (85 kB)\n",
            "\u001b[2K   \u001b[90m━━━━━━━━━━━━━━━━━━━━━━━━━━━━━━━━━━━━━━━━\u001b[0m \u001b[32m85.0/85.0 kB\u001b[0m \u001b[31m8.6 MB/s\u001b[0m eta \u001b[36m0:00:00\u001b[0m\n",
            "\u001b[?25hDownloading mtcnn-1.0.0-py3-none-any.whl (1.9 MB)\n",
            "\u001b[2K   \u001b[90m━━━━━━━━━━━━━━━━━━━━━━━━━━━━━━━━━━━━━━━━\u001b[0m \u001b[32m1.9/1.9 MB\u001b[0m \u001b[31m85.6 MB/s\u001b[0m eta \u001b[36m0:00:00\u001b[0m\n",
            "\u001b[?25hDownloading retina_face-0.0.17-py3-none-any.whl (25 kB)\n",
            "Downloading lz4-4.4.4-cp311-cp311-manylinux_2_17_x86_64.manylinux2014_x86_64.whl (1.3 MB)\n",
            "\u001b[2K   \u001b[90m━━━━━━━━━━━━━━━━━━━━━━━━━━━━━━━━━━━━━━━━\u001b[0m \u001b[32m1.3/1.3 MB\u001b[0m \u001b[31m73.5 MB/s\u001b[0m eta \u001b[36m0:00:00\u001b[0m\n",
            "\u001b[?25hBuilding wheels for collected packages: torchreid, deepface, face-recognition-models, fire\n",
            "  Building wheel for torchreid (setup.py) ... \u001b[?25l\u001b[?25hdone\n",
            "  Created wheel for torchreid: filename=torchreid-0.2.5-py3-none-any.whl size=144324 sha256=abdfdcd0dfea72594089cd08fdcd11395442f1d466f514f7ab4ad7673bb23204\n",
            "  Stored in directory: /root/.cache/pip/wheels/61/dc/08/b478469bab07b5ede9e962968ebe3c8961c10c5fc106a6c697\n",
            "  Building wheel for deepface (setup.py) ... \u001b[?25l\u001b[?25hdone\n",
            "  Created wheel for deepface: filename=deepface-0.0.94-py3-none-any.whl size=123355 sha256=1851e4a576823ac0930b1b4ae6184fa544e205a29de482d3844543f6969cbb8a\n",
            "  Stored in directory: /tmp/pip-ephem-wheel-cache-aqtphem5/wheels/4c/89/31/809b90b6c05df35ad9712b5ad2e8aa664d756a6fead549bf3f\n",
            "  Building wheel for face-recognition-models (setup.py) ... \u001b[?25l\u001b[?25hdone\n",
            "  Created wheel for face-recognition-models: filename=face_recognition_models-0.3.0-py2.py3-none-any.whl size=100566166 sha256=d0c2fb908832c579e75ae8c617a95067a645b5bc0212d3207af8715b92ee6dea\n",
            "  Stored in directory: /root/.cache/pip/wheels/04/52/ec/9355da79c29f160b038a20c784db2803c2f9fa2c8a462c176a\n",
            "  Building wheel for fire (setup.py) ... \u001b[?25l\u001b[?25hdone\n",
            "  Created wheel for fire: filename=fire-0.7.0-py3-none-any.whl size=114249 sha256=a505007e42054d081c25318cc27a5abbfa896528b858b7544f06ab0beb1ce245\n",
            "  Stored in directory: /root/.cache/pip/wheels/46/54/24/1624fd5b8674eb1188623f7e8e17cdf7c0f6c24b609dfb8a89\n",
            "Successfully built torchreid deepface face-recognition-models fire\n",
            "Installing collected packages: face-recognition-models, torchreid, lz4, gunicorn, fire, face_recognition, mtcnn, deep_sort_realtime, flask_cors, retina-face, deepface\n",
            "Successfully installed deep_sort_realtime-1.3.2 deepface-0.0.94 face-recognition-models-0.3.0 face_recognition-1.3.0 fire-0.7.0 flask_cors-6.0.0 gunicorn-23.0.0 lz4-4.4.4 mtcnn-1.0.0 retina-face-0.0.17 torchreid-0.2.5\n",
            "2025-06-03 04:23:45.459854: E external/local_xla/xla/stream_executor/cuda/cuda_fft.cc:477] Unable to register cuFFT factory: Attempting to register factory for plugin cuFFT when one has already been registered\n",
            "WARNING: All log messages before absl::InitializeLog() is called are written to STDERR\n",
            "E0000 00:00:1748924625.479781     667 cuda_dnn.cc:8310] Unable to register cuDNN factory: Attempting to register factory for plugin cuDNN when one has already been registered\n",
            "E0000 00:00:1748924625.485631     667 cuda_blas.cc:1418] Unable to register cuBLAS factory: Attempting to register factory for plugin cuBLAS when one has already been registered\n",
            "2025-06-03 04:23:45.505196: I tensorflow/core/platform/cpu_feature_guard.cc:210] This TensorFlow binary is optimized to use available CPU instructions in performance-critical operations.\n",
            "To enable the following instructions: AVX2 AVX512F FMA, in other operations, rebuild TensorFlow with the appropriate compiler flags.\n",
            "25-06-03 04:23:48 - Directory /root/.deepface has been created\n",
            "25-06-03 04:23:48 - Directory /root/.deepface/weights has been created\n",
            "2025-06-03 04:23:51.122286: W tensorflow/core/common_runtime/gpu/gpu_bfc_allocator.cc:47] Overriding orig_value setting because the TF_FORCE_GPU_ALLOW_GROWTH environment variable is set. Original config value was 0.\n",
            "I0000 00:00:1748924631.124342     667 gpu_device.cc:2022] Created device /job:localhost/replica:0/task:0/device:GPU:0 with 13942 MB memory:  -> device: 0, name: Tesla T4, pci bus id: 0000:00:04.0, compute capability: 7.5\n",
            "25-06-03 04:23:54 - 🔗 facenet512_weights.h5 will be downloaded from https://github.com/serengil/deepface_models/releases/download/v1.0/facenet512_weights.h5 to /root/.deepface/weights/facenet512_weights.h5...\n",
            "Downloading...\n",
            "From: https://github.com/serengil/deepface_models/releases/download/v1.0/facenet512_weights.h5\n",
            "To: /root/.deepface/weights/facenet512_weights.h5\n",
            "100% 95.0M/95.0M [00:00<00:00, 353MB/s]\n",
            "I0000 00:00:1748924639.262612     667 cuda_dnn.cc:529] Loaded cuDNN version 90300\n",
            "  ▶ seokbong: 2장 이미지로 임베딩 생성\n",
            "  ▶ junho: 2장 이미지로 임베딩 생성\n",
            "  ▶ jangsu: 2장 이미지로 임베딩 생성\n",
            "\n",
            "✅ 임베딩 저장 완료: /content/actor_embeddings.npy\n"
          ]
        }
      ],
      "source": [
        "!python build_actor_emb.py \\\n",
        "  --db_path \"/content/drive/MyDrive/image\" \\\n",
        "  --output \"/content/actor_embeddings.npy\""
      ]
    },
    {
      "cell_type": "code",
      "source": [
        "!python object_identification.py \\\n",
        "  --base_dir \"/content/drive/MyDrive/capstone_code\" \\\n",
        "  --frame_set_name \"output_results\" \\\n",
        "  --output_video \"/content/final_result.mp4\""
      ],
      "metadata": {
        "id": "EuY2sBfrFj5S",
        "colab": {
          "base_uri": "https://localhost:8080/"
        },
        "outputId": "98bd10e8-598e-42ee-ef65-ffbd7f90b0f3"
      },
      "execution_count": 4,
      "outputs": [
        {
          "output_type": "stream",
          "name": "stdout",
          "text": [
            "Traceback (most recent call last):\n",
            "  File \"/content/object_identification/object_identification.py\", line 7, in <module>\n",
            "    import torchreid\n",
            "ModuleNotFoundError: No module named 'torchreid'\n"
          ]
        }
      ]
    },
    {
      "cell_type": "code",
      "source": [],
      "metadata": {
        "id": "A73aeZEQ51xu"
      },
      "execution_count": null,
      "outputs": []
    }
  ]
}