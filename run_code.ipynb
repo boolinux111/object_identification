{
  "nbformat": 4,
  "nbformat_minor": 0,
  "metadata": {
    "colab": {
      "provenance": [],
      "gpuType": "T4"
    },
    "kernelspec": {
      "name": "python3",
      "display_name": "Python 3"
    },
    "language_info": {
      "name": "python"
    },
    "accelerator": "GPU"
  },
  "cells": [
    {
      "cell_type": "code",
      "source": [
        "!git clone \"https://github.com/boolinux111/object_identification.git\"\n",
        "%cd object_identification"
      ],
      "metadata": {
        "id": "tBKvnDIrVdc-",
        "colab": {
          "base_uri": "https://localhost:8080/"
        },
        "outputId": "9b79c07f-3661-47b5-82bd-4858b4906d6d"
      },
      "execution_count": 1,
      "outputs": [
        {
          "output_type": "stream",
          "name": "stdout",
          "text": [
            "Cloning into 'object_identification'...\n",
            "remote: Enumerating objects: 59, done.\u001b[K\n",
            "remote: Counting objects: 100% (59/59), done.\u001b[K\n",
            "remote: Compressing objects: 100% (56/56), done.\u001b[K\n",
            "remote: Total 59 (delta 19), reused 0 (delta 0), pack-reused 0 (from 0)\u001b[K\n",
            "Receiving objects: 100% (59/59), 48.20 KiB | 736.00 KiB/s, done.\n",
            "Resolving deltas: 100% (19/19), done.\n",
            "/content/object_identification\n"
          ]
        }
      ]
    },
    {
      "cell_type": "code",
      "source": [
        "!python install_dependencies.py"
      ],
      "metadata": {
        "id": "-6lxWEqPEhw-"
      },
      "execution_count": null,
      "outputs": []
    },
    {
      "cell_type": "code",
      "source": [
        "!python object_identification.py \\\n",
        "  --base_dir \"/content/drive/MyDrive/capstone_code\" \\\n",
        "  --frame_set_name \"output_results\" \\\n",
        "  --output_video \"/content/final_result.mp4\""
      ],
      "metadata": {
        "id": "EuY2sBfrFj5S"
      },
      "execution_count": null,
      "outputs": []
    }
  ]
}