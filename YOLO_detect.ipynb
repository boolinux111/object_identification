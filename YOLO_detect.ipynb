{
  "nbformat": 4,
  "nbformat_minor": 0,
  "metadata": {
    "colab": {
      "provenance": []
    },
    "kernelspec": {
      "name": "python3",
      "display_name": "Python 3"
    },
    "language_info": {
      "name": "python"
    }
  },
  "cells": [
    {
      "cell_type": "code",
      "execution_count": null,
      "metadata": {
        "id": "d9D6AMTH5VMh"
      },
      "outputs": [],
      "source": [
        "!pip install ultralytics"
      ]
    },
    {
      "cell_type": "code",
      "source": [
        "from ultralytics import YOLO\n",
        "import cv2\n",
        "import os\n",
        "import json\n",
        "\n",
        "def detect_people(frame, model, conf_thresh=0.3):\n",
        "    \"\"\"\n",
        "    frame: BGR 이미지 (np.ndarray)\n",
        "    model: ultralytics.YOLO 인스턴스\n",
        "    conf_thresh: 신뢰도 임계치\n",
        "\n",
        "    반환: List[Tuple[x1, y1, x2, y2, conf]]\n",
        "    \"\"\"\n",
        "    results = model(frame)[0]\n",
        "    people = []\n",
        "    for box, cls, conf in zip(results.boxes.xyxy, results.boxes.cls, results.boxes.conf):\n",
        "        if int(cls) == 0 and float(conf) >= conf_thresh:\n",
        "            x1, y1, x2, y2 = map(int, box)\n",
        "            people.append((x1, y1, x2, y2, float(conf)))\n",
        "    return people\n",
        "\n",
        "if __name__ == \"__main__\":\n",
        "    model = YOLO('yolov8n.pt')\n",
        "    video_path = '/content/output_scenes/Scene_1.mp4'\n",
        "    cap = cv2.VideoCapture(video_path)\n",
        "\n",
        "    os.makedirs('frames', exist_ok=True)\n",
        "    os.makedirs('content', exist_ok=True)\n",
        "\n",
        "    frame_idx = 0\n",
        "    detections = {}  # 저장할 JSON 구조\n",
        "\n",
        "    while True:\n",
        "        ret, frame = cap.read()\n",
        "        if not ret:\n",
        "            break\n",
        "        frame_idx += 1\n",
        "\n",
        "        # YOLO로 사람 검출\n",
        "        people = detect_people(frame, model, conf_thresh=0.5)\n",
        "\n",
        "        # 10프레임마다 이미지 저장 및 JSON 기록\n",
        "        if frame_idx % 10 == 0:\n",
        "            fname = f'frame_{frame_idx:05d}.jpg'\n",
        "            out_path = os.path.join('frames', fname)\n",
        "            cv2.imwrite(out_path, frame)\n",
        "\n",
        "            # JSON에 [x1,y1,x2,y2,conf] 리스트로 저장\n",
        "            detections[fname] = [\n",
        "                [x1, y1, x2, y2, conf] for (x1, y1, x2, y2, conf) in people\n",
        "            ]\n",
        "\n",
        "    cap.release()\n",
        "\n",
        "    # content/detections.json에 dump\n",
        "    json_path = os.path.join('content', 'detections.json')\n",
        "    with open(json_path, 'w', encoding='utf-8') as f:\n",
        "        json.dump(detections, f, ensure_ascii=False, indent=2)\n",
        "\n",
        "    print(f\"저장된 프레임 수: {len(detections)}\")\n",
        "    print(f\"바운딩 정보 JSON: {json_path}\")\n"
      ],
      "metadata": {
        "id": "FZ7tQPhF5aqw"
      },
      "execution_count": null,
      "outputs": []
    },
    {
      "cell_type": "code",
      "source": [
        "import zipfile\n",
        "import os\n",
        "\n",
        "# Paths\n",
        "frames_dir = '/content/frames'\n",
        "json_path = '/content/content/detections.json'\n",
        "# Changed zip_path to a valid location in Colab\n",
        "zip_path = '/content/frames_and_detections.zip'\n",
        "\n",
        "# Create zip archive\n",
        "with zipfile.ZipFile(zip_path, 'w', zipfile.ZIP_DEFLATED) as z:\n",
        "    # Add all frames\n",
        "    for root, dirs, files in os.walk(frames_dir):\n",
        "        for file in files:\n",
        "            if file.lower().endswith('.jpg'):\n",
        "                full_path = os.path.join(root, file)\n",
        "                arcname = os.path.relpath(full_path, '/content')\n",
        "                z.write(full_path, arcname=arcname)\n",
        "    # Add the JSON file\n",
        "    if os.path.exists(json_path):\n",
        "        z.write(json_path, arcname=os.path.relpath(json_path, '/content'))\n",
        "    else:\n",
        "        print(f\"JSON file not found at {json_path}\")\n",
        "\n",
        "print(f\"Archive created at: {zip_path}\")"
      ],
      "metadata": {
        "id": "eZ-qsruR5cZ0"
      },
      "execution_count": null,
      "outputs": []
    }
  ]
}